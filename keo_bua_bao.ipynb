{
 "cells": [
  {
   "cell_type": "code",
   "execution_count": 1,
   "metadata": {},
   "outputs": [
    {
     "name": "stdout",
     "output_type": "stream",
     "text": [
      "hello\n"
     ]
    }
   ],
   "source": [
    "print(\"hello\")"
   ]
  },
  {
   "cell_type": "code",
   "execution_count": 2,
   "metadata": {},
   "outputs": [],
   "source": [
    "option = [\"bua\", \"keo\", \"bao\"]"
   ]
  },
  {
   "cell_type": "code",
   "execution_count": 14,
   "metadata": {},
   "outputs": [
    {
     "name": "stdout",
     "output_type": "stream",
     "text": [
      "0: bua\n",
      " 1: keo\n",
      " 2: bao2\n"
     ]
    }
   ],
   "source": [
    "userChoice = input(\"0: bua\\n 1: keo\\n 2: bao\")"
   ]
  },
  {
   "cell_type": "code",
   "execution_count": 4,
   "metadata": {},
   "outputs": [
    {
     "name": "stdout",
     "output_type": "stream",
     "text": [
      "0\n"
     ]
    }
   ],
   "source": [
    "print(userChoice)"
   ]
  },
  {
   "cell_type": "code",
   "execution_count": 7,
   "metadata": {},
   "outputs": [],
   "source": [
    "import random as rd"
   ]
  },
  {
   "cell_type": "code",
   "execution_count": 8,
   "metadata": {},
   "outputs": [],
   "source": [
    "computerChoice = rd.choice(option)"
   ]
  },
  {
   "cell_type": "code",
   "execution_count": 9,
   "metadata": {},
   "outputs": [
    {
     "name": "stdout",
     "output_type": "stream",
     "text": [
      "bua\n"
     ]
    }
   ],
   "source": [
    "print(computerChoice)"
   ]
  },
  {
   "cell_type": "code",
   "execution_count": 11,
   "metadata": {},
   "outputs": [
    {
     "name": "stdout",
     "output_type": "stream",
     "text": [
      "hoa\n"
     ]
    }
   ],
   "source": [
    "if (option[int(userChoice)]) == computerChoice:\n",
    "    print(\"hoa\")\n",
    "elif (option[int(userChoice)]) == \"bua\" & computerChoice == \"keo\":\n",
    "    print(\"thang\")"
   ]
  },
  {
   "cell_type": "code",
   "execution_count": 12,
   "metadata": {},
   "outputs": [
    {
     "ename": "SyntaxError",
     "evalue": "invalid syntax (<ipython-input-12-a90f3a5ccea8>, line 1)",
     "output_type": "error",
     "traceback": [
      "\u001b[1;36m  File \u001b[1;32m\"<ipython-input-12-a90f3a5ccea8>\"\u001b[1;36m, line \u001b[1;32m1\u001b[0m\n\u001b[1;33m    elif (option[int(userChoice)]) == \"bao\" & computerChoice == \"keo\":\u001b[0m\n\u001b[1;37m    ^\u001b[0m\n\u001b[1;31mSyntaxError\u001b[0m\u001b[1;31m:\u001b[0m invalid syntax\n"
     ]
    }
   ],
   "source": [
    "elif (option[int(userChoice)]) == \"bao\" & computerChoice == \"keo\":\n",
    "    print(\"thua\")\n",
    "elif (option[int(userChoice)]) == \"bua\" & computerChoice == \"bao\":\n",
    "    print(\"thua\")\n",
    "elif (option[int(userChoice)]) == \"bao\" & computerChoice == \"bua\":\n",
    "    print(\"thang\")\n",
    "elif (option[int(userChoice)]) == \"keo\" & computerChoice == \"bua\":\n",
    "    print(\"thua\")\n",
    "elif (option[int(userChoice)]) == \"keo\" & computerChoice == \"bao\":\n",
    "    print(\"thang\")\n",
    "    \n",
    "   "
   ]
  },
  {
   "cell_type": "code",
   "execution_count": 16,
   "metadata": {},
   "outputs": [
    {
     "name": "stdout",
     "output_type": "stream",
     "text": [
      "thang\n"
     ]
    }
   ],
   "source": [
    "if (option[int(userChoice)]) == computerChoice:\n",
    "    print(\"hoa\")\n",
    "elif (option[int(userChoice)]) == \"bua\" and computerChoice == \"keo\":\n",
    "    print(\"thang\")\n",
    "elif (option[int(userChoice)]) == \"bao\" and computerChoice == \"keo\":\n",
    "    print(\"thua\")\n",
    "elif (option[int(userChoice)]) == \"bua\" and computerChoice == \"bao\":\n",
    "    print(\"thua\")\n",
    "elif (option[int(userChoice)]) == \"bao\" and computerChoice == \"bua\":\n",
    "    print(\"thang\")\n",
    "elif (option[int(userChoice)]) == \"keo\" and computerChoice == \"bua\":\n",
    "    print(\"thua\")\n",
    "elif (option[int(userChoice)]) == \"keo\" and computerChoice == \"bao\":\n",
    "    print(\"thang\")\n",
    "        "
   ]
  },
  {
   "cell_type": "code",
   "execution_count": null,
   "metadata": {},
   "outputs": [],
   "source": []
  },
  {
   "cell_type": "code",
   "execution_count": null,
   "metadata": {},
   "outputs": [],
   "source": []
  }
 ],
 "metadata": {
  "kernelspec": {
   "display_name": "Python 3",
   "language": "python",
   "name": "python3"
  },
  "language_info": {
   "codemirror_mode": {
    "name": "ipython",
    "version": 3
   },
   "file_extension": ".py",
   "mimetype": "text/x-python",
   "name": "python",
   "nbconvert_exporter": "python",
   "pygments_lexer": "ipython3",
   "version": "3.8.5"
  }
 },
 "nbformat": 4,
 "nbformat_minor": 4
}
