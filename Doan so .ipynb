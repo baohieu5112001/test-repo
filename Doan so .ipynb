{
 "cells": [
  {
   "cell_type": "code",
   "execution_count": 4,
   "metadata": {},
   "outputs": [],
   "source": [
    "import random as rd\n",
    "    "
   ]
  },
  {
   "cell_type": "code",
   "execution_count": 8,
   "metadata": {},
   "outputs": [],
   "source": [
    "def rdNumber():\n",
    "    return rd.randint(1, 100)\n"
   ]
  },
  {
   "cell_type": "code",
   "execution_count": 9,
   "metadata": {},
   "outputs": [
    {
     "name": "stdout",
     "output_type": "stream",
     "text": [
      "8\n"
     ]
    }
   ],
   "source": [
    "print(rdNumber())"
   ]
  },
  {
   "cell_type": "code",
   "execution_count": 18,
   "metadata": {},
   "outputs": [
    {
     "name": "stdout",
     "output_type": "stream",
     "text": [
      "doan so45\n",
      "lon\n",
      "doan so48\n",
      "lon\n",
      "doan so65\n",
      "qua lon\n",
      "doan so30\n",
      "chut nua\n",
      "doan so32\n",
      "chut nua\n",
      "doan so33\n",
      "dung\n"
     ]
    }
   ],
   "source": [
    "import math\n",
    "\n",
    "check = False\n",
    "number = rdNumber()\n",
    "\n",
    "while check != True:\n",
    "    userChoice = int(input(\"doan so\"))\n",
    "    distance = math.fabs(userChoice-number)\n",
    "    if distance >= 25: \n",
    "        print(\"qua lon\")\n",
    "    elif distance < 25 and distance >= 10:\n",
    "        print(\"lon\")\n",
    "    elif distance < 10 and distance >= 5:\n",
    "        print(\"gan\")\n",
    "    elif distance < 5 and distance >= 1:\n",
    "        print(\"chut nua\")\n",
    "    elif distance == 0:\n",
    "        print(\"dung\")\n",
    "        check = True"
   ]
  },
  {
   "cell_type": "code",
   "execution_count": 14,
   "metadata": {},
   "outputs": [
    {
     "name": "stdout",
     "output_type": "stream",
     "text": [
      "70\n"
     ]
    }
   ],
   "source": [
    "print(number)"
   ]
  },
  {
   "cell_type": "code",
   "execution_count": null,
   "metadata": {},
   "outputs": [],
   "source": []
  }
 ],
 "metadata": {
  "kernelspec": {
   "display_name": "Python 3",
   "language": "python",
   "name": "python3"
  },
  "language_info": {
   "codemirror_mode": {
    "name": "ipython",
    "version": 3
   },
   "file_extension": ".py",
   "mimetype": "text/x-python",
   "name": "python",
   "nbconvert_exporter": "python",
   "pygments_lexer": "ipython3",
   "version": "3.8.5"
  }
 },
 "nbformat": 4,
 "nbformat_minor": 4
}
